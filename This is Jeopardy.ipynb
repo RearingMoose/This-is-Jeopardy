{
 "cells": [
  {
   "cell_type": "markdown",
   "metadata": {},
   "source": [
    "# This is Jeopardy!"
   ]
  },
  {
   "cell_type": "markdown",
   "metadata": {},
   "source": [
    "#### Overview"
   ]
  },
  {
   "cell_type": "markdown",
   "metadata": {},
   "source": [
    "This project is slightly different than others you have encountered thus far. Instead of a step-by-step tutorial, this project contains a series of open-ended requirements which describe the project you'll be building. There are many possible ways to correctly fulfill all of these requirements, and you should expect to use the internet, Codecademy, and/or other resources when you encounter a problem that you cannot easily solve."
   ]
  },
  {
   "cell_type": "markdown",
   "metadata": {},
   "source": [
    "#### Project Goals"
   ]
  },
  {
   "cell_type": "markdown",
   "metadata": {},
   "source": [
    "You will work to write several functions that investigate a dataset of _Jeopardy!_ questions and answers. Filter the dataset for topics that you're interested in, compute the average difficulty of those questions, and train to become the next Jeopardy champion!"
   ]
  },
  {
   "cell_type": "markdown",
   "metadata": {},
   "source": [
    "## Prerequisites"
   ]
  },
  {
   "cell_type": "markdown",
   "metadata": {},
   "source": [
    "In order to complete this project, you should have completed the Pandas lessons in the <a href=\"https://www.codecademy.com/learn/paths/analyze-data-with-python\">Analyze Data with Python Skill Path</a>. You can also find those lessons in the <a href=\"https://www.codecademy.com/learn/data-processing-pandas\">Data Analysis with Pandas course</a> or the <a href=\"https://www.codecademy.com/learn/paths/data-science/\">Data Scientist Career Path</a>.\n",
    "\n",
    "Finally, the <a href=\"https://www.codecademy.com/learn/practical-data-cleaning\">Practical Data Cleaning</a> course may also be helpful."
   ]
  },
  {
   "cell_type": "markdown",
   "metadata": {},
   "source": [
    "## Project Requirements"
   ]
  },
  {
   "cell_type": "markdown",
   "metadata": {},
   "source": [
    "1. We've provided a csv file containing data about the game show _Jeopardy!_ in a file named `jeopardy.csv`. Load the data into a DataFrame and investigate its contents. Try to print out specific columns.\n",
    "\n",
    "   Note that in order to make this project as \"real-world\" as possible, we haven't modified the data at all - we're giving it to you exactly how we found it. As a result, this data isn't as \"clean\" as the datasets you normally find on Codecademy. More specifically, there's something odd about the column names. After you figure out the problem with the column names, you may want to rename them to make your life easier for the rest of the project.\n",
    "   \n",
    "   In order to display the full contents of a column, we've added this line of code for you:\n",
    "   \n",
    "   ```py\n",
    "   pd.set_option('display.max_colwidth', None)\n",
    "   ```"
   ]
  },
  {
   "cell_type": "code",
   "execution_count": 2,
   "metadata": {},
   "outputs": [
    {
     "name": "stdout",
     "output_type": "stream",
     "text": [
      "Index(['Show Number', ' Air Date', ' Round', ' Category', ' Value',\n",
      "       ' Question', ' Answer'],\n",
      "      dtype='object')\n",
      "   Show Number    Air Date      Round                         Category  Value  \\\n",
      "0         4680  2004-12-31  Jeopardy!                          HISTORY   $200   \n",
      "1         4680  2004-12-31  Jeopardy!  ESPN's TOP 10 ALL-TIME ATHLETES   $200   \n",
      "2         4680  2004-12-31  Jeopardy!      EVERYBODY TALKS ABOUT IT...   $200   \n",
      "3         4680  2004-12-31  Jeopardy!                 THE COMPANY LINE   $200   \n",
      "4         4680  2004-12-31  Jeopardy!              EPITAPHS & TRIBUTES   $200   \n",
      "\n",
      "                                                                                                      Question  \\\n",
      "0             For the last 8 years of his life, Galileo was under house arrest for espousing this man's theory   \n",
      "1  No. 2: 1912 Olympian; football star at Carlisle Indian School; 6 MLB seasons with the Reds, Giants & Braves   \n",
      "2                     The city of Yuma in this state has a record average of 4,055 hours of sunshine each year   \n",
      "3                         In 1963, live on \"The Art Linkletter Show\", this company served its billionth burger   \n",
      "4     Signer of the Dec. of Indep., framer of the Constitution of Mass., second President of the United States   \n",
      "\n",
      "       Answer  \n",
      "0  Copernicus  \n",
      "1  Jim Thorpe  \n",
      "2     Arizona  \n",
      "3  McDonald's  \n",
      "4  John Adams  \n"
     ]
    }
   ],
   "source": [
    "import pandas as pd\n",
    "pd.set_option('display.max_colwidth', None)\n",
    "import datetime\n",
    "\n",
    "#Reviewing the column names and dataset format\n",
    "jeopardy_data = pd.read_csv(\"jeopardy.csv\")\n",
    "print(jeopardy_data.columns)\n",
    "print(jeopardy_data.head(5))"
   ]
  },
  {
   "cell_type": "code",
   "execution_count": 3,
   "metadata": {},
   "outputs": [
    {
     "name": "stdout",
     "output_type": "stream",
     "text": [
      "Index(['Show Number', 'Air_Date', 'Round', 'Category', 'Value', 'Question',\n",
      "       'Answer'],\n",
      "      dtype='object')\n"
     ]
    }
   ],
   "source": [
    "#The column names have spaces before the 1st letter, so I want to change that for better ease of use.\n",
    "jeopardy_data = jeopardy_data.rename(columns = {\" Air Date\": \"Air_Date\", \" Round\": \"Round\", \" Category\": \"Category\", \" Value\": \"Value\", \" Question\": \"Question\", \" Answer\": \"Answer\"})\n",
    "print(jeopardy_data.columns)"
   ]
  },
  {
   "cell_type": "markdown",
   "metadata": {},
   "source": [
    "2. Write a function that filters the dataset for questions that contains all of the words in a list of words. For example, when the list `[\"King\", \"England\"]` was passed to our function, the function returned a DataFrame of 49 rows. Every row had the strings `\"King\"` and `\"England\"` somewhere in its `\" Question\"`.\n",
    "\n",
    "   Test your function by printing out the column containing the question of each row of the dataset."
   ]
  },
  {
   "cell_type": "code",
   "execution_count": 4,
   "metadata": {},
   "outputs": [
    {
     "name": "stdout",
     "output_type": "stream",
     "text": [
      "4953                    Both England's King George V & FDR put their stamp of approval on this \"King of Hobbies\"\n",
      "6337      In retaliation for Viking raids, this \"Unready\" king of England attacks Norse areas of the Isle of Man\n",
      "9191                    This king of England beat the odds to trounce the French in the 1415 Battle of Agincourt\n",
      "11710               This Scotsman, the first Stuart king of England, was called \"The Wisest Fool in Christendom\"\n",
      "13454                                       It's the number that followed the last king of England named William\n",
      "                                                           ...                                                  \n",
      "208295        In 1066 this great-great grandson of Rollo made what some call the last Viking invasion of England\n",
      "208742                      Dutch-born king who ruled England jointly with Mary II & is a tasty New Zealand fish\n",
      "213870                In 1781 William Herschel discovered Uranus & initially named it after this king of England\n",
      "216021          His nickname was \"Bertie\", but he used this name & number when he became king of England in 1901\n",
      "216789        This kingdom of England grew from 2 settlements, one founded around 495 by Cerdic & his son Cynric\n",
      "Name: Question, Length: 152, dtype: object\n"
     ]
    }
   ],
   "source": [
    "def filter_by_word(data, strings):\n",
    "    def word_filter(x):\n",
    "        for word in strings:\n",
    "            #converting words to lower-case so that function is more accurate and can handle capitalization differences/mistakes.\n",
    "            if word.lower() not in x.lower():\n",
    "                return False\n",
    "        return True\n",
    "    return data.loc[data[\"Question\"].apply(word_filter)]\n",
    "    #Lambda function version:\n",
    "    #word_filter = lambda x: all(word.lower() in x.lower() for word in strings)\n",
    "filtered_by_word = filter_by_word(jeopardy_data, [\"King\", \"England\"])\n",
    "print(filtered_by_word[\"Question\"])"
   ]
  },
  {
   "cell_type": "markdown",
   "metadata": {},
   "source": [
    "3. Test your original function with a few different sets of words to try to find some ways your function breaks. Edit your function so it is more robust.\n",
    "\n",
    "   For example, think about capitalization. We probably want to find questions that contain the word `\"King\"` or `\"king\"`.\n",
    "   \n",
    "   You may also want to check to make sure you don't find rows that contain substrings of your given words. For example, our function found a question that didn't contain the word `\"king\"`, however it did contain the word `\"viking\"` &mdash; it found the `\"king\"` inside `\"viking\"`. Note that this also comes with some drawbacks &mdash; you would no longer find questions that contained words like `\"England's\"`."
   ]
  },
  {
   "cell_type": "code",
   "execution_count": 5,
   "metadata": {},
   "outputs": [],
   "source": [
    "#I feel like I already accounted for this in the above code"
   ]
  },
  {
   "cell_type": "markdown",
   "metadata": {},
   "source": [
    "4. We may want to eventually compute aggregate statistics, like `.mean()` on the `\" Value\"` column. But right now, the values in that column are strings. Convert the`\" Value\"` column to floats. If you'd like to, you can create a new column with float values.\n",
    "\n",
    "   Now that you can filter the dataset of question, use your new column that contains the float values of each question to find the \"difficulty\" of certain topics. For example, what is the average value of questions that contain the word `\"King\"`?\n",
    "   \n",
    "   Make sure to use the dataset that contains the float values as the dataset you use in your filtering function."
   ]
  },
  {
   "cell_type": "code",
   "execution_count": 6,
   "metadata": {},
   "outputs": [],
   "source": [
    "#Value entries are strings starting with '$'\n",
    "#function that removes '$' from string so that number can be converted to a float. Also changes 'none' values to a float value of 0\n",
    "def parse_value(x):\n",
    "    if x != \"None\":\n",
    "        value_str = x[1:].replace(',', '')\n",
    "        value_float = float(value_str)\n",
    "    else:\n",
    "        value_float = 0.0\n",
    "    return value_float\n",
    "\n",
    "jeopardy_data[\"Value_Float\"] = jeopardy_data[\"Value\"].apply(parse_value)\n",
    "#The above function in lambda format:\n",
    "#jeopardy_data[\"Value_Float\"] = jeopardy_data[\"Value\"].apply(lambda x: float(x[1:].replace(',','')) if x != \"None\" else 0.0)"
   ]
  },
  {
   "cell_type": "code",
   "execution_count": 7,
   "metadata": {},
   "outputs": [
    {
     "name": "stdout",
     "output_type": "stream",
     "text": [
      "771.8833850722094\n"
     ]
    }
   ],
   "source": [
    "#Filtering the dataset for the average value of questions containing the word 'King'\n",
    "filtered_by_value = filter_by_word(jeopardy_data, [\"King\"])\n",
    "print(filtered_by_value[\"Value_Float\"].mean())"
   ]
  },
  {
   "cell_type": "markdown",
   "metadata": {},
   "source": [
    "5. Write a function that returns the count of unique answers to all of the questions in a dataset. For example, after filtering the entire dataset to only questions containing the word `\"King\"`, we could then find all of the unique answers to those questions. The answer \"Henry VIII\" appeared 55 times and was the most common answer."
   ]
  },
  {
   "cell_type": "code",
   "execution_count": 8,
   "metadata": {},
   "outputs": [
    {
     "name": "stdout",
     "output_type": "stream",
     "text": [
      "Henry VIII                   55\n",
      "Solomon                      35\n",
      "Richard III                  33\n",
      "Louis XIV                    31\n",
      "David                        30\n",
      "                             ..\n",
      "cardiac (in card I acted)     1\n",
      "Henderson                     1\n",
      "Computer                      1\n",
      "Indians                       1\n",
      "work                          1\n",
      "Name: Answer, Length: 5268, dtype: int64\n"
     ]
    }
   ],
   "source": [
    "#Using the .value_counts() pandas method to show number of times each answer was used.\n",
    "def unique_answer_count(data):\n",
    "    return data[\"Answer\"].value_counts()\n",
    "print(unique_answer_count(filtered_by_value))"
   ]
  },
  {
   "cell_type": "markdown",
   "metadata": {},
   "source": [
    "6. Explore from here! This is an incredibly rich dataset, and there are so many interesting things to discover. There are a few columns that we haven't even started looking at yet. Here are some ideas on ways to continue working with this data:\n",
    "\n",
    " * Investigate the ways in which questions change over time by filtering by the date. How many questions from the 90s use the word `\"Computer\"` compared to questions from the 2000s?\n",
    " * Is there a connection between the round and the category? Are you more likely to find certain categories, like `\"Literature\"` in Single Jeopardy or Double Jeopardy?\n",
    " * Build a system to quiz yourself. Grab random questions, and use the <a href=\"https://docs.python.org/3/library/functions.html#input\">input</a> function to get a response from the user. Check to see if that response was right or wrong."
   ]
  },
  {
   "attachments": {},
   "cell_type": "markdown",
   "metadata": {},
   "source": [
    "#### How many questions from the 90s use the word `\"Computer\"` compared to questions from the 2000s?"
   ]
  },
  {
   "cell_type": "code",
   "execution_count": 9,
   "metadata": {},
   "outputs": [
    {
     "name": "stdout",
     "output_type": "stream",
     "text": [
      "98\n",
      "267\n",
      "There were 169 more questions using the word 'Computer' in the 2000's than there were in the 90's.\n"
     ]
    }
   ],
   "source": [
    "#Adding a new 'date' column that converts the Air_Date string values into datetime\n",
    "jeopardy_data['date'] = jeopardy_data.Air_Date.apply(lambda x: pd.to_datetime(x))\n",
    "#Using the filter_by_word function to isolate questions containing the word \"Computer\" regardless of date.\n",
    "filtered_by_computer = filter_by_word(jeopardy_data, [\"Computer\"])\n",
    "#Further filtering the above results into a variable for each time period being looked at.\n",
    "filtered_by_computer_90s = filtered_by_computer[(filtered_by_computer.date > datetime.datetime(1990, 1, 1)) & (filtered_by_computer.date < datetime.datetime(1999, 12, 31))]\n",
    "filtered_by_computer_00s = filtered_by_computer[(filtered_by_computer.date > datetime.datetime(2000, 1, 1)) & (filtered_by_computer.date < datetime.datetime(2009, 12, 31))]\n",
    "#Getting the count of how many questions from each time period have the word \"Computer\" in them.\n",
    "num_computer_questions_90s = filtered_by_computer_90s[\"Question\"].str.contains(\"Computer\", case=False).sum()\n",
    "num_computer_questions_00s = filtered_by_computer_00s[\"Question\"].str.contains(\"Computer\", case=False).sum()\n",
    "#calculating the difference between the 2 time periods/eras\n",
    "def diff_between_eras(era1, era2):\n",
    "    if era2 > era1:\n",
    "        return \"There were \" + str(era2 - era1) + \" more questions using the word 'Computer' in the 2000's than there were in the 90's.\"\n",
    "    else:\n",
    "        return \"There were \" + str(era1 - era2) + \" more questions using the word 'Computer' in the 90's than there were in the 2000's.\"\n",
    "#printing the results\n",
    "print(num_computer_questions_90s)\n",
    "print(num_computer_questions_00s)\n",
    "print(diff_between_eras(num_computer_questions_90s, num_computer_questions_00s))\n",
    "\n"
   ]
  },
  {
   "cell_type": "code",
   "execution_count": 10,
   "metadata": {},
   "outputs": [
    {
     "name": "stdout",
     "output_type": "stream",
     "text": [
      "Most Americans get most of their cheese from these, makers of which bought $2.5 billion of cheese in 2002\n"
     ]
    }
   ],
   "source": [
    "import random\n",
    "#Jeopardy Game\n",
    "def random_question(jeopardy_data):\n",
    "    y_or_n = 'Yes'\n",
    "    correct = 0\n",
    "    incorrect = 0\n",
    "    while (y_or_n.lower() == 'yes'):\n",
    "        try:\n",
    "            random_index = random.randint(0, 216930)\n",
    "            question = jeopardy_data.Question.iloc[random_index]\n",
    "            answer = jeopardy_data.Answer.iloc[random_index]\n",
    "        except IndexError:\n",
    "            print('Error: Random index out of bounds for jeopardy_data dataset')\n",
    "            return\n",
    "\n",
    "        print(question)\n",
    "        user_input = input('Please answer the question: ')\n",
    "        if (user_input.lower() == answer.lower()):\n",
    "            print('That is Correct')\n",
    "            correct += 1\n",
    "            score = \"Correct: \" + str(correct) + ' - Incorrect: ' + str(incorrect)\n",
    "            print('Current Score: ' + str(score))\n",
    "            y_or_n = input('Would you like another question? (Yes or No): ')\n",
    "        else:\n",
    "            print('Incorrect. The answer we were looking for was: ' + answer)\n",
    "            incorrect += 1\n",
    "            score = \"Correct: \" + str(correct) + ' - Incorrect: ' + str(incorrect)\n",
    "            print('Current Score: ' + score)\n",
    "            y_or_n = input('Would you like another question? (Yes or No): ')\n",
    "\n",
    "    return 'Final Score: ' + score\n",
    "\n",
    "random_question(jeopardy_data)"
   ]
  },
  {
   "cell_type": "markdown",
   "metadata": {},
   "source": [
    "7. Great work! Visit <a href=\"https://discuss.codecademy.com/t/this-is-jeopardy-challenge-project-python-pandas/462365\">our forums</a> to compare your project to our sample solution code. You can also learn how to host your own solution on GitHub so you can share it with other learners! Your solution might look different from ours, and that's okay! There are multiple ways to solve these projects, and you'll learn more by seeing others' code."
   ]
  },
  {
   "cell_type": "code",
   "execution_count": null,
   "metadata": {},
   "outputs": [],
   "source": []
  }
 ],
 "metadata": {
  "kernelspec": {
   "display_name": "Python 3 (ipykernel)",
   "language": "python",
   "name": "python3"
  },
  "language_info": {
   "codemirror_mode": {
    "name": "ipython",
    "version": 3
   },
   "file_extension": ".py",
   "mimetype": "text/x-python",
   "name": "python",
   "nbconvert_exporter": "python",
   "pygments_lexer": "ipython3",
   "version": "3.11.0"
  }
 },
 "nbformat": 4,
 "nbformat_minor": 2
}
